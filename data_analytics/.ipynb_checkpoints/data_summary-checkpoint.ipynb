{
 "cells": [
  {
   "cell_type": "code",
   "execution_count": 12,
   "metadata": {},
   "outputs": [],
   "source": [
    "import pandas as pd\n",
    "pd.options.mode.chained_assignment = None  # default='warn'\n",
    "\n",
    "from datetime import datetime\n",
    "\n",
    "import re\n",
    "from colorama import init, Fore\n",
    "\n",
    "from IPython.display import Image, display"
   ]
  },
  {
   "cell_type": "markdown",
   "metadata": {},
   "source": [
    "# Helper Functions"
   ]
  },
  {
   "cell_type": "code",
   "execution_count": 13,
   "metadata": {},
   "outputs": [],
   "source": [
    "# Get joined keystroke and classification data\n",
    "def get_df_joined(instance):\n",
    "    # KEYSTROKE DATA\n",
    "    # COL 1: 'Timestamp'\n",
    "    # COL 2: 'Keystrokes'\n",
    "    df_keystrokes = pd.read_csv(f'data/keylogging/{instance}/keystrokes.csv')\n",
    "\n",
    "    # CLASSIFICATION DATA\n",
    "    # COL 1: 'Timestamp'\n",
    "    # COL 3: 'Text'\n",
    "    # COL 4: 'Target'\n",
    "    df_classification = pd.read_csv(f'data/keylogging/{instance}/classification.csv')\n",
    "\n",
    "    # JOINED DATA\n",
    "    # COL 1: 'Timestamp'\n",
    "    # COL 2: 'Keystrokes'\n",
    "    # COL 4: 'Text'\n",
    "    # COL 5: 'Target'\n",
    "    df_joined = df_classification.join(df_keystrokes.set_index('Timestamp'), on='Timestamp')\n",
    "    \n",
    "    return df_joined"
   ]
  },
  {
   "cell_type": "code",
   "execution_count": 38,
   "metadata": {},
   "outputs": [],
   "source": [
    "# Cluster subsequent rows where target is the same\n",
    "def get_df_clustered(df):\n",
    "    result = [df.iloc[0]]\n",
    "    \n",
    "    for i in range(1, len(df)):\n",
    "        tail = result[-1]\n",
    "        row = df.iloc[i]\n",
    "        \n",
    "        if (tail['Target'] == row['Target']):\n",
    "            tail['Timestamp'] += ', ' + row['Timestamp']\n",
    "            tail['Keystrokes'] += row['Keystrokes']\n",
    "            tail['Text'] += ', ' + row['Text']\n",
    "        else:\n",
    "            result.append(row)\n",
    "        \n",
    "    return pd.DataFrame(result)"
   ]
  },
  {
   "cell_type": "code",
   "execution_count": 42,
   "metadata": {},
   "outputs": [],
   "source": [
    "# Return text with highlights for matched patterns\n",
    "def highlight_patterns(text, patterns):\n",
    "    highlights = []\n",
    "    \n",
    "    for pattern in patterns:\n",
    "        text = re.sub(f\"({pattern})\", Fore.RED + r'\\1' + Fore.RESET, text, flags=re.I)\n",
    "        highlights += re.findall(pattern, text, flags=re.I)\n",
    "\n",
    "    return text, highlights"
   ]
  },
  {
   "cell_type": "code",
   "execution_count": 43,
   "metadata": {},
   "outputs": [],
   "source": [
    "# Display an image with a preceding print\n",
    "def show_image(text, image_name, instance):\n",
    "    try:\n",
    "        print(f\"{text} Image: {image_name}\")\n",
    "        display(Image(filename=f'data/keylogging/{instance}/images/{image_name}.csv'))\n",
    "    except ValueError:\n",
    "        print(f\"Could not find {image_name}\\n\")"
   ]
  },
  {
   "cell_type": "code",
   "execution_count": 44,
   "metadata": {},
   "outputs": [],
   "source": [
    "# Pretty print the clustered dataframe\n",
    "def pprint(df, instance, patterns):\n",
    "    for i in range(len(df)):\n",
    "        print(\"=\" * 127 + \"\\n\")\n",
    "        row = df.iloc[i]\n",
    "        \n",
    "        timestamps = row['Timestamp'].split(', ')\n",
    "        print(f\"Timeframe: {timestamps[0]} - {timestamps[-1]}\\n\")\n",
    "        \n",
    "        target = row['Target']\n",
    "        \n",
    "        if (target == 0):\n",
    "            print(\"Found: Nothing of Interest\")\n",
    "        else:\n",
    "            if (target == 1):\n",
    "                print(\"Found: Login Page\\n\")\n",
    "            \n",
    "            if (target == 2): # Else\n",
    "                print(\"Found: Credit Card Page\\n\")\n",
    "            \n",
    "            image_names = row['Timestamp'].split(', ')\n",
    "            image_name_start = image_names[0]\n",
    "            image_name_end = image_names[-1]\n",
    "                  \n",
    "            show_image(\"Start\", f\"{image_name_start}.png\", instance)\n",
    "            show_image(\"End\", f\"{image_name_end}.png\", instance)\n",
    "\n",
    "            keystrokes = row['Keystrokes']\n",
    "            keystrokes_highlighted, highlights = highlight_patterns(keystrokes, patterns)\n",
    "            print(f\"Keystrokes: \\n{keystrokes_highlighted}\")\n",
    "            print(f\"Highlights: \\n{highlights}\\n\")"
   ]
  },
  {
   "cell_type": "code",
   "execution_count": 45,
   "metadata": {},
   "outputs": [],
   "source": [
    "# Give summary of classification alongside keystrokes and highlights\n",
    "def summarize(instance, patterns):\n",
    "    df_joined = get_df_joined(instance)\n",
    "    df_clustered = get_df_clustered(df_joined)\n",
    "    pprint(df_clustered, instance, patterns)"
   ]
  },
  {
   "cell_type": "markdown",
   "metadata": {},
   "source": [
    "# Summarize Test Example"
   ]
  },
  {
   "cell_type": "code",
   "execution_count": 46,
   "metadata": {},
   "outputs": [
    {
     "data": {
      "text/html": [
       "<div>\n",
       "<style scoped>\n",
       "    .dataframe tbody tr th:only-of-type {\n",
       "        vertical-align: middle;\n",
       "    }\n",
       "\n",
       "    .dataframe tbody tr th {\n",
       "        vertical-align: top;\n",
       "    }\n",
       "\n",
       "    .dataframe thead th {\n",
       "        text-align: right;\n",
       "    }\n",
       "</style>\n",
       "<table border=\"1\" class=\"dataframe\">\n",
       "  <thead>\n",
       "    <tr style=\"text-align: right;\">\n",
       "      <th></th>\n",
       "      <th>Timestamp</th>\n",
       "      <th>Keystrokes</th>\n",
       "      <th>Text</th>\n",
       "      <th>Target</th>\n",
       "    </tr>\n",
       "  </thead>\n",
       "  <tbody>\n",
       "    <tr>\n",
       "      <th>0</th>\n",
       "      <td>14:31</td>\n",
       "      <td>Hello, my name</td>\n",
       "      <td>Transcribed image text 1.</td>\n",
       "      <td>1</td>\n",
       "    </tr>\n",
       "    <tr>\n",
       "      <th>1</th>\n",
       "      <td>14:36</td>\n",
       "      <td>is Bob.</td>\n",
       "      <td>Transcribed image text 2.</td>\n",
       "      <td>1</td>\n",
       "    </tr>\n",
       "    <tr>\n",
       "      <th>2</th>\n",
       "      <td>14:41</td>\n",
       "      <td>This sentence</td>\n",
       "      <td>Transcribed image text 3.</td>\n",
       "      <td>2</td>\n",
       "    </tr>\n",
       "    <tr>\n",
       "      <th>3</th>\n",
       "      <td>14:46</td>\n",
       "      <td>is unrelated.</td>\n",
       "      <td>Transcribed image text 4.</td>\n",
       "      <td>2</td>\n",
       "    </tr>\n",
       "    <tr>\n",
       "      <th>4</th>\n",
       "      <td>14:51</td>\n",
       "      <td>Word.</td>\n",
       "      <td>Transcribed image text 5.</td>\n",
       "      <td>0</td>\n",
       "    </tr>\n",
       "  </tbody>\n",
       "</table>\n",
       "</div>"
      ],
      "text/plain": [
       "  Timestamp       Keystrokes                       Text  Target\n",
       "0     14:31  Hello, my name   Transcribed image text 1.       1\n",
       "1     14:36          is Bob.  Transcribed image text 2.       1\n",
       "2     14:41   This sentence   Transcribed image text 3.       2\n",
       "3     14:46    is unrelated.  Transcribed image text 4.       2\n",
       "4     14:51            Word.  Transcribed image text 5.       0"
      ]
     },
     "execution_count": 46,
     "metadata": {},
     "output_type": "execute_result"
    }
   ],
   "source": [
    "# Set up example dataframe\n",
    "df_example = pd.DataFrame([['14:31', 'Hello, my name ', 'Transcribed image text 1.', 1], \n",
    "                           ['14:36', 'is Bob.', 'Transcribed image text 2.', 1], \n",
    "                           ['14:41', 'This sentence ', 'Transcribed image text 3.', 2], \n",
    "                           ['14:46', 'is unrelated.', 'Transcribed image text 4.', 2], \n",
    "                           ['14:51', 'Word.', 'Transcribed image text 5.', 0]], \n",
    "                          columns=['Timestamp', 'Keystrokes', 'Text', 'Target'])\n",
    "df_example"
   ]
  },
  {
   "cell_type": "code",
   "execution_count": 47,
   "metadata": {},
   "outputs": [
    {
     "data": {
      "text/html": [
       "<div>\n",
       "<style scoped>\n",
       "    .dataframe tbody tr th:only-of-type {\n",
       "        vertical-align: middle;\n",
       "    }\n",
       "\n",
       "    .dataframe tbody tr th {\n",
       "        vertical-align: top;\n",
       "    }\n",
       "\n",
       "    .dataframe thead th {\n",
       "        text-align: right;\n",
       "    }\n",
       "</style>\n",
       "<table border=\"1\" class=\"dataframe\">\n",
       "  <thead>\n",
       "    <tr style=\"text-align: right;\">\n",
       "      <th></th>\n",
       "      <th>Timestamp</th>\n",
       "      <th>Keystrokes</th>\n",
       "      <th>Text</th>\n",
       "      <th>Target</th>\n",
       "    </tr>\n",
       "  </thead>\n",
       "  <tbody>\n",
       "    <tr>\n",
       "      <th>0</th>\n",
       "      <td>14:31, 14:36</td>\n",
       "      <td>Hello, my name is Bob.</td>\n",
       "      <td>Transcribed image text 1., Transcribed image t...</td>\n",
       "      <td>1</td>\n",
       "    </tr>\n",
       "    <tr>\n",
       "      <th>2</th>\n",
       "      <td>14:41, 14:46</td>\n",
       "      <td>This sentence is unrelated.</td>\n",
       "      <td>Transcribed image text 3., Transcribed image t...</td>\n",
       "      <td>2</td>\n",
       "    </tr>\n",
       "    <tr>\n",
       "      <th>4</th>\n",
       "      <td>14:51</td>\n",
       "      <td>Word.</td>\n",
       "      <td>Transcribed image text 5.</td>\n",
       "      <td>0</td>\n",
       "    </tr>\n",
       "  </tbody>\n",
       "</table>\n",
       "</div>"
      ],
      "text/plain": [
       "      Timestamp                   Keystrokes  \\\n",
       "0  14:31, 14:36       Hello, my name is Bob.   \n",
       "2  14:41, 14:46  This sentence is unrelated.   \n",
       "4         14:51                        Word.   \n",
       "\n",
       "                                                Text  Target  \n",
       "0  Transcribed image text 1., Transcribed image t...       1  \n",
       "2  Transcribed image text 3., Transcribed image t...       2  \n",
       "4                          Transcribed image text 5.       0  "
      ]
     },
     "execution_count": 47,
     "metadata": {},
     "output_type": "execute_result"
    }
   ],
   "source": [
    "# Cluster example dataframe\n",
    "df_clustered = get_df_clustered(df_example)\n",
    "df_clustered"
   ]
  },
  {
   "cell_type": "code",
   "execution_count": 50,
   "metadata": {},
   "outputs": [
    {
     "name": "stdout",
     "output_type": "stream",
     "text": [
      "===============================================================================================================================\n",
      "\n",
      "Timeframe: 14:31 - 14:36\n",
      "\n",
      "Found: Login Page\n",
      "\n",
      "Start Image: 14:31.png\n",
      "Could not find 14:31.png\n",
      "\n",
      "End Image: 14:36.png\n",
      "Could not find 14:36.png\n",
      "\n",
      "Keystrokes: \n",
      "Hello, my \u001b[31mname\u001b[39m is \u001b[31mBob\u001b[39m.\n",
      "Highlights: \n",
      "['Bob', 'name']\n",
      "\n",
      "===============================================================================================================================\n",
      "\n",
      "Timeframe: 14:41 - 14:46\n",
      "\n",
      "Found: Credit Card Page\n",
      "\n",
      "Start Image: 14:41.png\n",
      "Could not find 14:41.png\n",
      "\n",
      "End Image: 14:46.png\n",
      "Could not find 14:46.png\n",
      "\n",
      "Keystrokes: \n",
      "This \u001b[31msentence\u001b[39m is unrelated.\n",
      "Highlights: \n",
      "['sentence']\n",
      "\n",
      "===============================================================================================================================\n",
      "\n",
      "Timeframe: 14:51 - 14:51\n",
      "\n",
      "Found: Nothing of Interest\n"
     ]
    }
   ],
   "source": [
    "# Pretty print clustered dataframe\n",
    "pprint(df_clustered, \"keylogging-1\", [\"bob\", \"sentence\", \"word\", \"name\"])"
   ]
  },
  {
   "cell_type": "markdown",
   "metadata": {},
   "source": [
    "# Summarize Instances"
   ]
  },
  {
   "cell_type": "code",
   "execution_count": null,
   "metadata": {},
   "outputs": [],
   "source": []
  }
 ],
 "metadata": {
  "kernelspec": {
   "display_name": "Python 3",
   "language": "python",
   "name": "python3"
  },
  "language_info": {
   "codemirror_mode": {
    "name": "ipython",
    "version": 3
   },
   "file_extension": ".py",
   "mimetype": "text/x-python",
   "name": "python",
   "nbconvert_exporter": "python",
   "pygments_lexer": "ipython3",
   "version": "3.7.3"
  }
 },
 "nbformat": 4,
 "nbformat_minor": 2
}
