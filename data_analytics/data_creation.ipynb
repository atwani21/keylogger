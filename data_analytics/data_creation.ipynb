{
 "cells": [
  {
   "cell_type": "code",
   "execution_count": 1,
   "metadata": {},
   "outputs": [
    {
     "name": "stderr",
     "output_type": "stream",
     "text": [
      "[nltk_data] Downloading package stopwords to\n",
      "[nltk_data]     C:\\Users\\20190735\\AppData\\Roaming\\nltk_data...\n",
      "[nltk_data]   Package stopwords is already up-to-date!\n"
     ]
    },
    {
     "data": {
      "text/plain": [
       "True"
      ]
     },
     "execution_count": 1,
     "metadata": {},
     "output_type": "execute_result"
    }
   ],
   "source": [
    "# Install Pillow, pytesseract and translate, via Conda or pip\n",
    "# Install Tesseract on your PC, https://github.com/UB-Mannheim/tesseract/wiki\n",
    "from pytesseract import pytesseract\n",
    "from translate import Translator\n",
    "\n",
    "import re\n",
    "import string\n",
    "\n",
    "import cv2\n",
    "import os\n",
    "\n",
    "import csv\n",
    "\n",
    "import nltk\n",
    "from nltk.corpus import stopwords\n",
    "nltk.download('stopwords')"
   ]
  },
  {
   "cell_type": "code",
   "execution_count": 2,
   "metadata": {},
   "outputs": [],
   "source": [
    "pytesseract.tesseract_cmd = r'C:\\Program Files\\Tesseract-OCR\\tesseract.exe'"
   ]
  },
  {
   "cell_type": "markdown",
   "metadata": {},
   "source": [
    "# Helper functions"
   ]
  },
  {
   "cell_type": "code",
   "execution_count": 3,
   "metadata": {
    "code_folding": []
   },
   "outputs": [],
   "source": [
    "# Transcribes image to text\n",
    "def transcribe(img):\n",
    "    transcription = pytesseract.image_to_string(img)\n",
    "\n",
    "    return transcription"
   ]
  },
  {
   "cell_type": "code",
   "execution_count": 4,
   "metadata": {},
   "outputs": [],
   "source": [
    "# Translate text to given language\n",
    "def translate(text, lang):\n",
    "    translator = Translator(to_lang=lang)\n",
    "    translation = translator.translate(text)\n",
    "\n",
    "    return translation"
   ]
  },
  {
   "cell_type": "markdown",
   "metadata": {},
   "source": [
    "# Data Creation"
   ]
  },
  {
   "cell_type": "code",
   "execution_count": 12,
   "metadata": {
    "code_folding": []
   },
   "outputs": [],
   "source": [
    "# Transcribe all images in image folder to texts\n",
    "def transcribe_folder(img_folder, target):\n",
    "    data = []\n",
    "    \n",
    "    for img_name in os.listdir(img_folder):\n",
    "        img_path = os.path.join(img_folder, img_name)\n",
    "        \n",
    "        try:\n",
    "            img = cv2.imread(img_path)\n",
    "            text = transcribe(img)\n",
    "            \n",
    "            if text == \"\":\n",
    "                os.remove(img_path)\n",
    "                continue\n",
    "            \n",
    "            text = re.sub(r'\\n', ' ', text)\n",
    "            data.append({'ImageName': img_name, 'Text': text, 'Target': target})\n",
    "        except TypeError:\n",
    "            \"error\"\n",
    "            \n",
    "    return data"
   ]
  },
  {
   "cell_type": "code",
   "execution_count": 13,
   "metadata": {},
   "outputs": [],
   "source": [
    "# Save data in csv file\n",
    "def save_data(data, csv_file):\n",
    "    fieldnames = ['ImageName', 'Text', 'Target']\n",
    "        \n",
    "    with open(csv_file, 'w', encoding='utf-8') as file:\n",
    "        file.truncate()\n",
    "        writer = csv.DictWriter(file, fieldnames=fieldnames, lineterminator = '\\n')\n",
    "        writer.writeheader()\n",
    "        writer.writerows(data)"
   ]
  },
  {
   "cell_type": "code",
   "execution_count": 14,
   "metadata": {},
   "outputs": [],
   "source": [
    "# Create data\n",
    "def create_data(img_folder, target, csv_file):\n",
    "    data = transcribe_folder(img_folder, target)\n",
    "    save_data(data, csv_file)"
   ]
  },
  {
   "cell_type": "code",
   "execution_count": 19,
   "metadata": {},
   "outputs": [],
   "source": [
    "create_data(r'data\\imgs_creditcard', 2, r'data\\txt_creditcard.csv')"
   ]
  },
  {
   "cell_type": "code",
   "execution_count": 16,
   "metadata": {},
   "outputs": [],
   "source": [
    "create_data(r'data\\imgs_login', 1, r'data\\txt_login.csv')"
   ]
  },
  {
   "cell_type": "code",
   "execution_count": 18,
   "metadata": {},
   "outputs": [],
   "source": [
    "create_data(r'data\\imgs_random', 0, r'data\\txt_random.csv')"
   ]
  }
 ],
 "metadata": {
  "kernelspec": {
   "display_name": "Python 3 (ipykernel)",
   "language": "python",
   "name": "python3"
  },
  "language_info": {
   "codemirror_mode": {
    "name": "ipython",
    "version": 3
   },
   "file_extension": ".py",
   "mimetype": "text/x-python",
   "name": "python",
   "nbconvert_exporter": "python",
   "pygments_lexer": "ipython3",
   "version": "3.9.7"
  }
 },
 "nbformat": 4,
 "nbformat_minor": 2
}
