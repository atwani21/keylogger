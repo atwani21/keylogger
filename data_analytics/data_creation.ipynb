{
 "cells": [
  {
   "cell_type": "code",
   "execution_count": 54,
   "metadata": {},
   "outputs": [
    {
     "name": "stderr",
     "output_type": "stream",
     "text": [
      "[nltk_data] Downloading package stopwords to\n",
      "[nltk_data]     C:\\Users\\20190735\\AppData\\Roaming\\nltk_data...\n",
      "[nltk_data]   Package stopwords is already up-to-date!\n"
     ]
    },
    {
     "data": {
      "text/plain": [
       "True"
      ]
     },
     "execution_count": 54,
     "metadata": {},
     "output_type": "execute_result"
    }
   ],
   "source": [
    "# Install Pillow, pytesseract and translate, via Conda or pip\n",
    "# Install Tesseract on your PC, https://github.com/UB-Mannheim/tesseract/wiki\n",
    "from pytesseract import pytesseract\n",
    "from translate import Translator\n",
    "\n",
    "import re\n",
    "import string\n",
    "\n",
    "import cv2\n",
    "import os\n",
    "\n",
    "import csv\n",
    "\n",
    "import nltk\n",
    "from nltk.corpus import stopwords\n",
    "nltk.download('stopwords')"
   ]
  },
  {
   "cell_type": "code",
   "execution_count": 55,
   "metadata": {},
   "outputs": [],
   "source": [
    "pytesseract.tesseract_cmd = r'C:\\Program Files\\Tesseract-OCR\\tesseract.exe'"
   ]
  },
  {
   "cell_type": "markdown",
   "metadata": {},
   "source": [
    "# Helper functions"
   ]
  },
  {
   "cell_type": "code",
   "execution_count": 56,
   "metadata": {
    "code_folding": []
   },
   "outputs": [],
   "source": [
    "# Transcribes image to text\n",
    "def transcribe(img):\n",
    "    transcription = pytesseract.image_to_string(img)\n",
    "\n",
    "    return transcription"
   ]
  },
  {
   "cell_type": "code",
   "execution_count": 57,
   "metadata": {},
   "outputs": [],
   "source": [
    "# Translate text to given language\n",
    "def translate(text, lang):\n",
    "    translator = Translator(to_lang=lang)\n",
    "    translation = translator.translate(text)\n",
    "\n",
    "    return translation"
   ]
  },
  {
   "cell_type": "markdown",
   "metadata": {},
   "source": [
    "# Data Creation"
   ]
  },
  {
   "cell_type": "code",
   "execution_count": 58,
   "metadata": {},
   "outputs": [],
   "source": [
    "def preprocess(text):\n",
    "    text = [i.split('\\n') for i in text.split(' ')]\n",
    "    text = [item for sublist in text for item in sublist]\n",
    "    text = [i for i in text if i not in stopwords.words('english')]\n",
    "    text = ' '.join(text)\n",
    "    text = text.lower() \n",
    "    text = text.strip()  \n",
    "    text = re.compile('<.*?>').sub('', text) \n",
    "    text = re.compile('[%s]' % re.escape(string.punctuation)).sub(' ', text)  \n",
    "    text = re.sub('\\s+', ' ', text)  \n",
    "    text = re.sub(r'\\[[0-9]*\\]',' ',text) \n",
    "    text = re.sub(r'[^\\w\\s]', '', str(text).lower().strip())\n",
    "    text = re.sub(r'\\d',' ',text) \n",
    "    text = re.sub(r'\\s+',' ',text)\n",
    "    text = ' '.join([i for i in dict.fromkeys(text.split(' ')) if len(i) > 1])\n",
    "    return text"
   ]
  },
  {
   "cell_type": "code",
   "execution_count": 59,
   "metadata": {
    "code_folding": []
   },
   "outputs": [],
   "source": [
    "# Transcribe all images in image folder to texts\n",
    "def transcribe_folder(img_folder, target):\n",
    "    data = []\n",
    "    \n",
    "    for img_name in os.listdir(img_folder):\n",
    "        img_path = os.path.join(img_folder, img_name)\n",
    "        \n",
    "        try:\n",
    "            img = cv2.imread(img_path)\n",
    "            text = transcribe(img)\n",
    "            text = preprocess(text)\n",
    "            \n",
    "            if text == \"\":\n",
    "                os.remove(img_path)\n",
    "                continue\n",
    "            \n",
    "            text = re.sub(r'\\n', ' ', text)\n",
    "            data.append({'ImageName': img_name, 'Text': text, 'Target': target})\n",
    "        except TypeError:\n",
    "            \"error\"\n",
    "            \n",
    "    return data"
   ]
  },
  {
   "cell_type": "code",
   "execution_count": 60,
   "metadata": {},
   "outputs": [],
   "source": [
    "# Save data in csv file\n",
    "def save_data(data, csv_file):\n",
    "    fieldnames = ['ImageName', 'Text', 'Target']\n",
    "        \n",
    "    with open(csv_file, 'w', encoding='utf-8') as file:\n",
    "        file.truncate()\n",
    "        writer = csv.DictWriter(file, fieldnames=fieldnames, lineterminator = '\\n')\n",
    "        writer.writeheader()\n",
    "        writer.writerows(data)"
   ]
  },
  {
   "cell_type": "code",
   "execution_count": 61,
   "metadata": {},
   "outputs": [],
   "source": [
    "# Create data\n",
    "def create_data(img_folder, target, csv_file):\n",
    "    data = transcribe_folder(img_folder, target)\n",
    "    save_data(data, csv_file)"
   ]
  },
  {
   "cell_type": "code",
   "execution_count": 62,
   "metadata": {},
   "outputs": [],
   "source": [
    "create_data(r'data\\imgs_creditcard', 1, r'data\\txt_creditcard.csv')"
   ]
  },
  {
   "cell_type": "code",
   "execution_count": 63,
   "metadata": {},
   "outputs": [],
   "source": [
    "create_data(r'data\\imgs_login', 1, r'data\\txt_login.csv')"
   ]
  }
 ],
 "metadata": {
  "kernelspec": {
   "display_name": "Python 3 (ipykernel)",
   "language": "python",
   "name": "python3"
  },
  "language_info": {
   "codemirror_mode": {
    "name": "ipython",
    "version": 3
   },
   "file_extension": ".py",
   "mimetype": "text/x-python",
   "name": "python",
   "nbconvert_exporter": "python",
   "pygments_lexer": "ipython3",
   "version": "3.9.7"
  }
 },
 "nbformat": 4,
 "nbformat_minor": 2
}
